{
 "cells": [
  {
   "cell_type": "code",
   "execution_count": 1,
   "id": "5dcb085f",
   "metadata": {},
   "outputs": [],
   "source": [
    "import numpy as np\n",
    "import pandas as pd\n",
    "import matplotlib.pyplot as plt\n",
    "import seaborn as sns"
   ]
  },
  {
   "cell_type": "code",
   "execution_count": 5,
   "id": "522d4a75",
   "metadata": {},
   "outputs": [
    {
     "data": {
      "text/html": [
       "<div>\n",
       "<style scoped>\n",
       "    .dataframe tbody tr th:only-of-type {\n",
       "        vertical-align: middle;\n",
       "    }\n",
       "\n",
       "    .dataframe tbody tr th {\n",
       "        vertical-align: top;\n",
       "    }\n",
       "\n",
       "    .dataframe thead th {\n",
       "        text-align: right;\n",
       "    }\n",
       "</style>\n",
       "<table border=\"1\" class=\"dataframe\">\n",
       "  <thead>\n",
       "    <tr style=\"text-align: right;\">\n",
       "      <th></th>\n",
       "      <th>title</th>\n",
       "      <th>channelTitle</th>\n",
       "      <th>categoryId</th>\n",
       "      <th>view_count</th>\n",
       "      <th>likes</th>\n",
       "      <th>dislikes</th>\n",
       "      <th>comment_count</th>\n",
       "      <th>channelId</th>\n",
       "      <th>trending_date2</th>\n",
       "    </tr>\n",
       "  </thead>\n",
       "  <tbody>\n",
       "    <tr>\n",
       "      <th>0</th>\n",
       "      <td>[신병] 물자창고</td>\n",
       "      <td>장삐쭈</td>\n",
       "      <td>23</td>\n",
       "      <td>1893473</td>\n",
       "      <td>38249</td>\n",
       "      <td>730</td>\n",
       "      <td>8595</td>\n",
       "      <td>UChbE5OZQ6dRHECsX0tEPEZQ</td>\n",
       "      <td>2021-01-01</td>\n",
       "    </tr>\n",
       "    <tr>\n",
       "      <th>1</th>\n",
       "      <td>RAIN(비) - 나로 바꾸자 Switch to me (duet with JYP) MV</td>\n",
       "      <td>RAIN's Official Channel</td>\n",
       "      <td>10</td>\n",
       "      <td>2600864</td>\n",
       "      <td>0</td>\n",
       "      <td>0</td>\n",
       "      <td>20129</td>\n",
       "      <td>UCxXgIeE5hxWxHG6dz9Scg2w</td>\n",
       "      <td>2021-01-01</td>\n",
       "    </tr>\n",
       "    <tr>\n",
       "      <th>2</th>\n",
       "      <td>2020년 제야의 종 온라인 타종행사 | 보신각 현장 행사는 진행하지 않습니다.</td>\n",
       "      <td>서울시 · Seoul</td>\n",
       "      <td>29</td>\n",
       "      <td>347049</td>\n",
       "      <td>3564</td>\n",
       "      <td>120</td>\n",
       "      <td>178</td>\n",
       "      <td>UCZUPZW5idAxYp-Asj__lVAA</td>\n",
       "      <td>2021-01-01</td>\n",
       "    </tr>\n",
       "    <tr>\n",
       "      <th>3</th>\n",
       "      <td>고기남자의 칠면조 파티</td>\n",
       "      <td>고기남자 MeatMan</td>\n",
       "      <td>26</td>\n",
       "      <td>528458</td>\n",
       "      <td>15372</td>\n",
       "      <td>280</td>\n",
       "      <td>3470</td>\n",
       "      <td>UCT3CumbFIJiW33uq0UI3zlg</td>\n",
       "      <td>2021-01-01</td>\n",
       "    </tr>\n",
       "    <tr>\n",
       "      <th>4</th>\n",
       "      <td>골목 3mc를 분노하게 만든 마음고생이 심했을 공릉 백반집 사장님의 푸념?! [예능...</td>\n",
       "      <td>스브스밥집</td>\n",
       "      <td>24</td>\n",
       "      <td>494904</td>\n",
       "      <td>3918</td>\n",
       "      <td>111</td>\n",
       "      <td>3142</td>\n",
       "      <td>UCdWgRSfttvDucq4ApcCg5Mw</td>\n",
       "      <td>2021-01-01</td>\n",
       "    </tr>\n",
       "  </tbody>\n",
       "</table>\n",
       "</div>"
      ],
      "text/plain": [
       "                                               title             channelTitle  \\\n",
       "0                                          [신병] 물자창고                      장삐쭈   \n",
       "1   RAIN(비) - 나로 바꾸자 Switch to me (duet with JYP) MV  RAIN's Official Channel   \n",
       "2       2020년 제야의 종 온라인 타종행사 | 보신각 현장 행사는 진행하지 않습니다.              서울시 · Seoul   \n",
       "3                                       고기남자의 칠면조 파티             고기남자 MeatMan   \n",
       "4  골목 3mc를 분노하게 만든 마음고생이 심했을 공릉 백반집 사장님의 푸념?! [예능...                    스브스밥집   \n",
       "\n",
       "   categoryId  view_count  likes  dislikes  comment_count  \\\n",
       "0          23     1893473  38249       730           8595   \n",
       "1          10     2600864      0         0          20129   \n",
       "2          29      347049   3564       120            178   \n",
       "3          26      528458  15372       280           3470   \n",
       "4          24      494904   3918       111           3142   \n",
       "\n",
       "                  channelId trending_date2  \n",
       "0  UChbE5OZQ6dRHECsX0tEPEZQ     2021-01-01  \n",
       "1  UCxXgIeE5hxWxHG6dz9Scg2w     2021-01-01  \n",
       "2  UCZUPZW5idAxYp-Asj__lVAA     2021-01-01  \n",
       "3  UCT3CumbFIJiW33uq0UI3zlg     2021-01-01  \n",
       "4  UCdWgRSfttvDucq4ApcCg5Mw     2021-01-01  "
      ]
     },
     "execution_count": 5,
     "metadata": {},
     "output_type": "execute_result"
    }
   ],
   "source": [
    "df = pd.read_csv(\"https://raw.githubusercontent.com/Datamanim/datarepo/main/youtube/youtube.csv\",index_col=0)\n",
    "df.head()               "
   ]
  },
  {
   "cell_type": "code",
   "execution_count": 6,
   "id": "9b46e119",
   "metadata": {},
   "outputs": [
    {
     "name": "stdout",
     "output_type": "stream",
     "text": [
      "<class 'pandas.core.frame.DataFrame'>\n",
      "Int64Index: 60399 entries, 0 to 60398\n",
      "Data columns (total 9 columns):\n",
      " #   Column          Non-Null Count  Dtype \n",
      "---  ------          --------------  ----- \n",
      " 0   title           60399 non-null  object\n",
      " 1   channelTitle    60399 non-null  object\n",
      " 2   categoryId      60399 non-null  int64 \n",
      " 3   view_count      60399 non-null  int64 \n",
      " 4   likes           60399 non-null  int64 \n",
      " 5   dislikes        60399 non-null  int64 \n",
      " 6   comment_count   60399 non-null  int64 \n",
      " 7   channelId       60399 non-null  object\n",
      " 8   trending_date2  60399 non-null  object\n",
      "dtypes: int64(5), object(4)\n",
      "memory usage: 4.6+ MB\n"
     ]
    }
   ],
   "source": [
    "df.info()"
   ]
  },
  {
   "cell_type": "code",
   "execution_count": null,
   "id": "f0b442ec",
   "metadata": {},
   "outputs": [],
   "source": [
    "top = df.loc[\"channel_title\"]\n",
    "top.head(10)"
   ]
  },
  {
   "cell_type": "code",
   "execution_count": 9,
   "id": "a2ff6a1d",
   "metadata": {},
   "outputs": [
    {
     "name": "stdout",
     "output_type": "stream",
     "text": [
      "['핫도그TV', 'ASMR 애정TV', '하얀트리HayanTree', '양팡 YangPang', '철구형 (CHULTUBE)', '왜냐맨하우스', '(MUTUBE)와꾸대장봉준', '오메킴TV', '육지담', 'MapleStory_KR', 'ROAD FIGHTING CHAMPIONSHIP', '사나이 김기훈', '나혼자산다 STUDIO', 'Gen.G esports']\n"
     ]
    }
   ],
   "source": [
    "channel = list(df.loc[df.likes < df.dislikes].channelTitle.unique()) #unique = 고유값\n",
    "print(channel)"
   ]
  },
  {
   "cell_type": "code",
   "execution_count": 12,
   "id": "6e33fe3d",
   "metadata": {},
   "outputs": [
    {
     "name": "stdout",
     "output_type": "stream",
     "text": [
      "71\n"
     ]
    }
   ],
   "source": [
    "#중복값 제거 : drop_duplicates\n",
    "change = df[['channelId', 'channelTitle']].drop_duplicates().channelId.value_counts()\n",
    "target = change[change>1]\n",
    "print(len(target))"
   ]
  },
  {
   "cell_type": "code",
   "execution_count": 16,
   "id": "2b7d740a",
   "metadata": {},
   "outputs": [
    {
     "name": "stdout",
     "output_type": "stream",
     "text": [
      "24\n"
     ]
    }
   ],
   "source": [
    "from datetime import datetime    #dt.day_name = 요일 이름  value_counts().index[0] = 최대값\n",
    "df['trending_date2'] = pd.to_datetime(df['trending_date2'])\n",
    "day = df.loc[df['trending_date2'].dt.day_name() == 'Sunday'].categoryId.value_counts().index[0]\n",
    "print(day)"
   ]
  },
  {
   "cell_type": "code",
   "execution_count": null,
   "id": "9435f94f",
   "metadata": {},
   "outputs": [],
   "source": [
    "group = DataFrame"
   ]
  },
  {
   "cell_type": "code",
   "execution_count": 21,
   "id": "1a4b4071",
   "metadata": {},
   "outputs": [
    {
     "name": "stdout",
     "output_type": "stream",
     "text": [
      "짤툰\n"
     ]
    }
   ],
   "source": [
    "trend = df.loc[df.channelId == df.channelId.value_counts().index[0]].channelTitle.unique()[0]\n",
    "print(trend)"
   ]
  },
  {
   "cell_type": "code",
   "execution_count": 23,
   "id": "9a114ef9",
   "metadata": {},
   "outputs": [
    {
     "name": "stdout",
     "output_type": "stream",
     "text": [
      "40\n"
     ]
    }
   ],
   "source": [
    "answer = (df[['title', 'channelId']].value_counts()>=20).sum()\n",
    "print(answer)"
   ]
  },
  {
   "cell_type": "code",
   "execution_count": 24,
   "id": "e1f254cb",
   "metadata": {},
   "outputs": [
    {
     "data": {
      "text/html": [
       "<div>\n",
       "<style scoped>\n",
       "    .dataframe tbody tr th:only-of-type {\n",
       "        vertical-align: middle;\n",
       "    }\n",
       "\n",
       "    .dataframe tbody tr th {\n",
       "        vertical-align: top;\n",
       "    }\n",
       "\n",
       "    .dataframe thead th {\n",
       "        text-align: right;\n",
       "    }\n",
       "</style>\n",
       "<table border=\"1\" class=\"dataframe\">\n",
       "  <thead>\n",
       "    <tr style=\"text-align: right;\">\n",
       "      <th></th>\n",
       "      <th>videopk</th>\n",
       "      <th>viewcnt</th>\n",
       "      <th>likecnt</th>\n",
       "      <th>dislikecnt</th>\n",
       "      <th>favoritecnt</th>\n",
       "      <th>cmcnt</th>\n",
       "      <th>ct</th>\n",
       "      <th>videoname</th>\n",
       "    </tr>\n",
       "  </thead>\n",
       "  <tbody>\n",
       "    <tr>\n",
       "      <th>0</th>\n",
       "      <td>c5JQp6xafqc</td>\n",
       "      <td>1667010</td>\n",
       "      <td>30474</td>\n",
       "      <td>706</td>\n",
       "      <td>0</td>\n",
       "      <td>6587</td>\n",
       "      <td>2021-10-10 15:20:03</td>\n",
       "      <td>공범 EP1</td>\n",
       "    </tr>\n",
       "    <tr>\n",
       "      <th>1</th>\n",
       "      <td>c5JQp6xafqc</td>\n",
       "      <td>1669089</td>\n",
       "      <td>30495</td>\n",
       "      <td>707</td>\n",
       "      <td>0</td>\n",
       "      <td>6589</td>\n",
       "      <td>2021-10-10 15:30:03</td>\n",
       "      <td>공범 EP1</td>\n",
       "    </tr>\n",
       "    <tr>\n",
       "      <th>2</th>\n",
       "      <td>c5JQp6xafqc</td>\n",
       "      <td>1674759</td>\n",
       "      <td>30522</td>\n",
       "      <td>711</td>\n",
       "      <td>0</td>\n",
       "      <td>6596</td>\n",
       "      <td>2021-10-10 15:40:02</td>\n",
       "      <td>공범 EP1</td>\n",
       "    </tr>\n",
       "    <tr>\n",
       "      <th>3</th>\n",
       "      <td>c5JQp6xafqc</td>\n",
       "      <td>1677026</td>\n",
       "      <td>30555</td>\n",
       "      <td>712</td>\n",
       "      <td>0</td>\n",
       "      <td>6604</td>\n",
       "      <td>2021-10-10 15:50:03</td>\n",
       "      <td>공범 EP1</td>\n",
       "    </tr>\n",
       "    <tr>\n",
       "      <th>4</th>\n",
       "      <td>c5JQp6xafqc</td>\n",
       "      <td>1681824</td>\n",
       "      <td>30585</td>\n",
       "      <td>713</td>\n",
       "      <td>0</td>\n",
       "      <td>6600</td>\n",
       "      <td>2021-10-10 16:00:03</td>\n",
       "      <td>공범 EP1</td>\n",
       "    </tr>\n",
       "  </tbody>\n",
       "</table>\n",
       "</div>"
      ],
      "text/plain": [
       "       videopk  viewcnt  likecnt  dislikecnt  favoritecnt  cmcnt  \\\n",
       "0  c5JQp6xafqc  1667010    30474         706            0   6587   \n",
       "1  c5JQp6xafqc  1669089    30495         707            0   6589   \n",
       "2  c5JQp6xafqc  1674759    30522         711            0   6596   \n",
       "3  c5JQp6xafqc  1677026    30555         712            0   6604   \n",
       "4  c5JQp6xafqc  1681824    30585         713            0   6600   \n",
       "\n",
       "                    ct videoname  \n",
       "0  2021-10-10 15:20:03    공범 EP1  \n",
       "1  2021-10-10 15:30:03    공범 EP1  \n",
       "2  2021-10-10 15:40:02    공범 EP1  \n",
       "3  2021-10-10 15:50:03    공범 EP1  \n",
       "4  2021-10-10 16:00:03    공범 EP1  "
      ]
     },
     "metadata": {},
     "output_type": "display_data"
    },
    {
     "data": {
      "text/html": [
       "<div>\n",
       "<style scoped>\n",
       "    .dataframe tbody tr th:only-of-type {\n",
       "        vertical-align: middle;\n",
       "    }\n",
       "\n",
       "    .dataframe tbody tr th {\n",
       "        vertical-align: top;\n",
       "    }\n",
       "\n",
       "    .dataframe thead th {\n",
       "        text-align: right;\n",
       "    }\n",
       "</style>\n",
       "<table border=\"1\" class=\"dataframe\">\n",
       "  <thead>\n",
       "    <tr style=\"text-align: right;\">\n",
       "      <th></th>\n",
       "      <th>channelid</th>\n",
       "      <th>subcnt</th>\n",
       "      <th>viewcnt</th>\n",
       "      <th>videocnt</th>\n",
       "      <th>ct</th>\n",
       "      <th>channelname</th>\n",
       "    </tr>\n",
       "  </thead>\n",
       "  <tbody>\n",
       "    <tr>\n",
       "      <th>0</th>\n",
       "      <td>UCkQCwnkQfgSuPTTnw_Y7v7w</td>\n",
       "      <td>1310000</td>\n",
       "      <td>410238653</td>\n",
       "      <td>736</td>\n",
       "      <td>2021-09-30 03:01:03</td>\n",
       "      <td>꽈뚜룹</td>\n",
       "    </tr>\n",
       "    <tr>\n",
       "      <th>1</th>\n",
       "      <td>UCkQCwnkQfgSuPTTnw_Y7v7w</td>\n",
       "      <td>1310000</td>\n",
       "      <td>412531322</td>\n",
       "      <td>736</td>\n",
       "      <td>2021-09-30 09:01:03</td>\n",
       "      <td>꽈뚜룹</td>\n",
       "    </tr>\n",
       "    <tr>\n",
       "      <th>2</th>\n",
       "      <td>UCkQCwnkQfgSuPTTnw_Y7v7w</td>\n",
       "      <td>1310000</td>\n",
       "      <td>412531322</td>\n",
       "      <td>735</td>\n",
       "      <td>2021-09-30 15:01:03</td>\n",
       "      <td>꽈뚜룹</td>\n",
       "    </tr>\n",
       "    <tr>\n",
       "      <th>3</th>\n",
       "      <td>UCkQCwnkQfgSuPTTnw_Y7v7w</td>\n",
       "      <td>1310000</td>\n",
       "      <td>412531322</td>\n",
       "      <td>737</td>\n",
       "      <td>2021-09-30 21:01:03</td>\n",
       "      <td>꽈뚜룹</td>\n",
       "    </tr>\n",
       "    <tr>\n",
       "      <th>4</th>\n",
       "      <td>UCkQCwnkQfgSuPTTnw_Y7v7w</td>\n",
       "      <td>1320000</td>\n",
       "      <td>412531322</td>\n",
       "      <td>737</td>\n",
       "      <td>2021-10-01 03:01:04</td>\n",
       "      <td>꽈뚜룹</td>\n",
       "    </tr>\n",
       "  </tbody>\n",
       "</table>\n",
       "</div>"
      ],
      "text/plain": [
       "                  channelid   subcnt    viewcnt  videocnt  \\\n",
       "0  UCkQCwnkQfgSuPTTnw_Y7v7w  1310000  410238653       736   \n",
       "1  UCkQCwnkQfgSuPTTnw_Y7v7w  1310000  412531322       736   \n",
       "2  UCkQCwnkQfgSuPTTnw_Y7v7w  1310000  412531322       735   \n",
       "3  UCkQCwnkQfgSuPTTnw_Y7v7w  1310000  412531322       737   \n",
       "4  UCkQCwnkQfgSuPTTnw_Y7v7w  1320000  412531322       737   \n",
       "\n",
       "                    ct channelname  \n",
       "0  2021-09-30 03:01:03         꽈뚜룹  \n",
       "1  2021-09-30 09:01:03         꽈뚜룹  \n",
       "2  2021-09-30 15:01:03         꽈뚜룹  \n",
       "3  2021-09-30 21:01:03         꽈뚜룹  \n",
       "4  2021-10-01 03:01:04         꽈뚜룹  "
      ]
     },
     "metadata": {},
     "output_type": "display_data"
    }
   ],
   "source": [
    "channel = pd.read_csv(\"https://raw.githubusercontent.com/Datamanim/datarepo/main/youtube/videoInfo.csv\")\n",
    "video = pd.read_csv(\"https://raw.githubusercontent.com/Datamanim/datarepo/main/youtube/channelInfo.csv\")\n",
    "display(channel.head())\n",
    "display(video.head())"
   ]
  },
  {
   "cell_type": "code",
   "execution_count": 27,
   "id": "5ea1583c",
   "metadata": {},
   "outputs": [
    {
     "ename": "AttributeError",
     "evalue": "'DataFrame' object has no attribute 'videoname'",
     "output_type": "error",
     "traceback": [
      "\u001b[1;31m---------------------------------------------------------------------------\u001b[0m",
      "\u001b[1;31mAttributeError\u001b[0m                            Traceback (most recent call last)",
      "\u001b[1;32m~\\AppData\\Local\\Temp\\ipykernel_23204\\2514776003.py\u001b[0m in \u001b[0;36m<module>\u001b[1;34m\u001b[0m\n\u001b[0;32m      1\u001b[0m \u001b[1;32mfrom\u001b[0m \u001b[0mdatetime\u001b[0m \u001b[1;32mimport\u001b[0m \u001b[0mdatetime\u001b[0m\u001b[1;33m\u001b[0m\u001b[1;33m\u001b[0m\u001b[0m\n\u001b[0;32m      2\u001b[0m \u001b[0mvideo\u001b[0m\u001b[1;33m[\u001b[0m\u001b[1;34m'ct'\u001b[0m\u001b[1;33m]\u001b[0m \u001b[1;33m=\u001b[0m \u001b[0mpd\u001b[0m\u001b[1;33m.\u001b[0m\u001b[0mto_datetime\u001b[0m\u001b[1;33m(\u001b[0m\u001b[0mvideo\u001b[0m\u001b[1;33m[\u001b[0m\u001b[1;34m'ct'\u001b[0m\u001b[1;33m]\u001b[0m\u001b[1;33m)\u001b[0m\u001b[1;33m\u001b[0m\u001b[1;33m\u001b[0m\u001b[0m\n\u001b[1;32m----> 3\u001b[1;33m \u001b[0manswer\u001b[0m \u001b[1;33m=\u001b[0m \u001b[0mvideo\u001b[0m\u001b[1;33m.\u001b[0m\u001b[0mvideoname\u001b[0m\u001b[1;33m.\u001b[0m\u001b[0mvalue_counts\u001b[0m\u001b[1;33m(\u001b[0m\u001b[1;33m)\u001b[0m\u001b[1;33m\u001b[0m\u001b[1;33m\u001b[0m\u001b[0m\n\u001b[0m\u001b[0;32m      4\u001b[0m \u001b[0mprint\u001b[0m\u001b[1;33m(\u001b[0m\u001b[0manswer\u001b[0m\u001b[1;33m)\u001b[0m\u001b[1;33m\u001b[0m\u001b[1;33m\u001b[0m\u001b[0m\n",
      "\u001b[1;32m~\\anaconda3\\lib\\site-packages\\pandas\\core\\generic.py\u001b[0m in \u001b[0;36m__getattr__\u001b[1;34m(self, name)\u001b[0m\n\u001b[0;32m   5573\u001b[0m         ):\n\u001b[0;32m   5574\u001b[0m             \u001b[1;32mreturn\u001b[0m \u001b[0mself\u001b[0m\u001b[1;33m[\u001b[0m\u001b[0mname\u001b[0m\u001b[1;33m]\u001b[0m\u001b[1;33m\u001b[0m\u001b[1;33m\u001b[0m\u001b[0m\n\u001b[1;32m-> 5575\u001b[1;33m         \u001b[1;32mreturn\u001b[0m \u001b[0mobject\u001b[0m\u001b[1;33m.\u001b[0m\u001b[0m__getattribute__\u001b[0m\u001b[1;33m(\u001b[0m\u001b[0mself\u001b[0m\u001b[1;33m,\u001b[0m \u001b[0mname\u001b[0m\u001b[1;33m)\u001b[0m\u001b[1;33m\u001b[0m\u001b[1;33m\u001b[0m\u001b[0m\n\u001b[0m\u001b[0;32m   5576\u001b[0m \u001b[1;33m\u001b[0m\u001b[0m\n\u001b[0;32m   5577\u001b[0m     \u001b[1;32mdef\u001b[0m \u001b[0m__setattr__\u001b[0m\u001b[1;33m(\u001b[0m\u001b[0mself\u001b[0m\u001b[1;33m,\u001b[0m \u001b[0mname\u001b[0m\u001b[1;33m:\u001b[0m \u001b[0mstr\u001b[0m\u001b[1;33m,\u001b[0m \u001b[0mvalue\u001b[0m\u001b[1;33m)\u001b[0m \u001b[1;33m->\u001b[0m \u001b[1;32mNone\u001b[0m\u001b[1;33m:\u001b[0m\u001b[1;33m\u001b[0m\u001b[1;33m\u001b[0m\u001b[0m\n",
      "\u001b[1;31mAttributeError\u001b[0m: 'DataFrame' object has no attribute 'videoname'"
     ]
    }
   ],
   "source": [
    "from datetime import datetime\n",
    "video['ct'] = pd.to_datetime(video['ct'])\n",
    "answer = video.videoname.value_counts()\n",
    "print(answer)"
   ]
  },
  {
   "cell_type": "code",
   "execution_count": null,
   "id": "57d81a91",
   "metadata": {},
   "outputs": [],
   "source": []
  }
 ],
 "metadata": {
  "kernelspec": {
   "display_name": "Python 3 (ipykernel)",
   "language": "python",
   "name": "python3"
  },
  "language_info": {
   "codemirror_mode": {
    "name": "ipython",
    "version": 3
   },
   "file_extension": ".py",
   "mimetype": "text/x-python",
   "name": "python",
   "nbconvert_exporter": "python",
   "pygments_lexer": "ipython3",
   "version": "3.9.13"
  }
 },
 "nbformat": 4,
 "nbformat_minor": 5
}
